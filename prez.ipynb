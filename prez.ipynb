{
 "cells": [
  {
   "cell_type": "markdown",
   "metadata": {},
   "source": [
    "# Intro"
   ]
  },
  {
   "cell_type": "markdown",
   "metadata": {},
   "source": [
    "Everyone in this room can be conceptualized as a series of records that have, do, or will exist.\n",
    "- For most of us, this starts with a birth certificate and ends with a death certificate.\n",
    "- In between, there will be medical records, school records, marriage records, bank records, arrest records, etc.\n",
    "\n",
    "Imagine what we could learn about ourselves by integrating all of that information, from all of those different sources, into one single, cohesive story. "
   ]
  },
  {
   "cell_type": "markdown",
   "metadata": {},
   "source": [
    "## Quick example\n",
    "\n",
    "- Public health example: Joining hospital records to birth certificates.\n",
    "    - What problems would occur?\n",
    "        1. People change\n",
    "            - Names, addresses, ...\n",
    "        2. People make mistakes\n",
    "            - Typos, spelling errors, nicknames, abbreviations, ...\n",
    "        3. People lie\n",
    "            - Age, weight, neighborhood, ..."
   ]
  },
  {
   "cell_type": "markdown",
   "metadata": {},
   "source": [
    "## Additional example areas\n",
    "Data matching is not new -- well before computers, we needed to match records belonging to the same individual.\n",
    "- National census (give Australian example)\n",
    "    - Governments around the world rely on census data to allocate resources appropriately.\n",
    "    - RL plays an important role in improving the quality and accuracy of census data.\n",
    "    - The U.S. Census Bureau has played a major role in the development of RL techniques for several decades.\n",
    "- Medical sector (historically referred to as _medical_ record linkage)\n",
    "- Genealogy (LDS have spent a lot of $$$ and published a few papers on RL)\n",
    "- Online shopping (de-duplication in order to reach customers more effectively)\n",
    "- Public health / Epidemiology"
   ]
  },
  {
   "cell_type": "markdown",
   "metadata": {},
   "source": [
    "## Why do I care?"
   ]
  },
  {
   "cell_type": "markdown",
   "metadata": {},
   "source": [
    "- As a society, we are producing more data than ever before. In order to make use of it, we need intelligent solutions to integrate data from disparate sources.\n",
    "- Such tools play an important role in both data mining _and_ data warehousing -- using RL, we can not only improve the quality (and statistical power) of our data, but also reveal relationships not contained within any single database."
   ]
  },
  {
   "cell_type": "markdown",
   "metadata": {},
   "source": [
    "# Overview\n",
    "\n",
    "## Challenges\n",
    "### Missing unique identifiers\n",
    "### Computation complexity\n",
    "### Lack of training data\n",
    "### Privacy\n",
    "\n",
    "## Classic record linkage approach\n",
    "- First, I want to give you a snapshot of the classic record linkage approach which will include:\n",
    "### Pre-processing (normalization of undesired variation)\n",
    "### Indexing (blocking)\n",
    "### Comparison and classification\n",
    "### Evaluation\n",
    "    \n",
    "## Advancements (rename)\n",
    "### HMM for pre-processing(?)\n",
    "### Complex features\n",
    "#### NLP\n",
    "### Neural networks, etc."
   ]
  },
  {
   "cell_type": "markdown",
   "metadata": {},
   "source": [
    "# Classic record linkage approach\n",
    "I will use 'record linkage' to refer to both the matching of records across two (or more) databases.\n",
    "- This can also include the special case of _'de-duplication'_, which simply involves using the same approach* to find duplicate records in _the same_ database.\n",
    "\n",
    "<div style=\"text-align: right\">*De-duplication can sometimes involve matching more than 2 records within a database.</div>"
   ]
  },
  {
   "cell_type": "markdown",
   "metadata": {},
   "source": [
    "Most commonly, each record refers to a real-live person*.\n",
    "- Customers in a business database\n",
    "- Constituents in a government database\n",
    "- Patients in a hospital database\n",
    "<div style=\"text-align: right\">*Sometimes the entity to be matched is a business, or some other object.</div>"
   ]
  },
  {
   "cell_type": "markdown",
   "metadata": {},
   "source": [
    "# Challenges"
   ]
  },
  {
   "cell_type": "markdown",
   "metadata": {},
   "source": [
    "## In all of these case, the challenge that we have to overcome is missing a unique identifier for the entities we are matching.\n",
    "- For example, if we had perfectly accurate social security numbers for each record, the task is reduced to a straight-forward join of two databases.\n",
    "- This is often not the case for multiple reasons:\n",
    "    1. accurate record keeping is hard\n",
    "    2. privacy is usually a concern (in some countries use of such identifiers is illegal).\n",
    "- As such, in order to match records across databases, we must use common attributes shared by both databases.\n",
    "    - e.g. Name, address, phone number, age\n",
    "- The quality of data points such as these are notoriously low for reasons described earlier."
   ]
  },
  {
   "cell_type": "markdown",
   "metadata": {},
   "source": [
    "## Computation complexity\n",
    "- As a naive approach, one might try comparing each record in one database, to each record in the other, to determine if each pair under consideration might be a match.\n",
    "- The computational complexity of such an approach, however, grows quadratically ($O(N²)$) with the size of the smaller database.\n",
    "- As we'll see, some nice tricks exist to reduce the size of the problem substantially."
   ]
  },
  {
   "cell_type": "markdown",
   "metadata": {},
   "source": [
    "## Lack of training labels\n",
    "- In the typical (supervised) machine learning approach, labeled training data is used as feedback by a statistical model during the process of training. \n",
    "- In some cases, the there is no training data that tells us if two records correspond to the same individual or not.\n",
    "- This can make the evaluation of the model's matches especially challenging."
   ]
  },
  {
   "cell_type": "markdown",
   "metadata": {},
   "source": [
    "## Privacy\n",
    "- Given that these records often contain sensitive personal information (such as medical/employment records), special attention must be paid to preserving this privacy via _'de-identification'_.\n",
    "- This is especially important for academic or medical researchers using HIPAA-protected datasets for research use."
   ]
  },
  {
   "cell_type": "markdown",
   "metadata": {},
   "source": [
    "# Classic record linkage approach"
   ]
  },
  {
   "cell_type": "markdown",
   "metadata": {},
   "source": [
    "There are two main approaches to matching two records:\n",
    "## Deterministic\n",
    "## Probabilistic"
   ]
  },
  {
   "cell_type": "code",
   "execution_count": null,
   "metadata": {},
   "outputs": [],
   "source": []
  }
 ],
 "metadata": {
  "kernelspec": {
   "display_name": "Python 3",
   "language": "python",
   "name": "python3"
  },
  "language_info": {
   "codemirror_mode": {
    "name": "ipython",
    "version": 3
   },
   "file_extension": ".py",
   "mimetype": "text/x-python",
   "name": "python",
   "nbconvert_exporter": "python",
   "pygments_lexer": "ipython3",
   "version": "3.6.10"
  }
 },
 "nbformat": 4,
 "nbformat_minor": 4
}
