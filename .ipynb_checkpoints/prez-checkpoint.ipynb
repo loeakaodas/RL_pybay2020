{
 "cells": [
  {
   "cell_type": "markdown",
   "metadata": {},
   "source": [
    "# Goals and Challenges\n",
    "## Quick example\n",
    "    - Public health example: Joining hospital records to birth certificates.\n",
    "        - What problems would occur?\n",
    "            1. People change\n",
    "                - Names, addresses, ...\n",
    "            2. People make mistakes\n",
    "                - Typos, spelling errors, nicknames, abbreviations, ...\n",
    "            3. People lie\n",
    "                - Age, weight, neighborhood, ...\n",
    "### Additional example areas\n",
    "    - National census (give Australian example)\n",
    "    - Medical sector (historically referred to as _medical_ record linkage)\n",
    "    - Genealogy (LDS have spent a lot of $$$ and published a few papers on RL)\n",
    "    - Online shopping (de-duplication in order to reach customers more effectively)\n",
    "    - Public health / Epidemiology"
   ]
  },
  {
   "cell_type": "markdown",
   "metadata": {},
   "source": [
    "# Overview\n",
    "## Classic record linkage approach\n",
    "    - First, I want to give you a snapshot of the classic record linkage approach which will include:\n",
    "    ### Pre-processing (normalization of undesired variation)\n",
    "    ### Indexing (blocking)\n",
    "    ### Comparison and classification\n",
    "    ### Evaluation\n",
    "    \n",
    "## Advancements (rename)\n",
    "    ### HMM for pre-processing(?)\n",
    "    ### Complex features\n",
    "    ### Neural networks, etc.\n",
    "    "
   ]
  },
  {
   "cell_type": "markdown",
   "metadata": {},
   "source": [
    "# Classic record linkage approach\n",
    "    There are two main approaches to matching two records:\n",
    "    ## Deterministic\n",
    "    ## Probabilistic"
   ]
  }
 ],
 "metadata": {
  "kernelspec": {
   "display_name": "Python 3",
   "language": "python",
   "name": "python3"
  },
  "language_info": {
   "codemirror_mode": {
    "name": "ipython",
    "version": 3
   },
   "file_extension": ".py",
   "mimetype": "text/x-python",
   "name": "python",
   "nbconvert_exporter": "python",
   "pygments_lexer": "ipython3",
   "version": "3.6.10"
  }
 },
 "nbformat": 4,
 "nbformat_minor": 4
}
